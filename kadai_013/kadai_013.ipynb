{
  "nbformat": 4,
  "nbformat_minor": 0,
  "metadata": {
    "colab": {
      "provenance": []
    },
    "kernelspec": {
      "name": "python3",
      "display_name": "Python 3"
    },
    "language_info": {
      "name": "python"
    }
  },
  "cells": [
    {
      "cell_type": "code",
      "execution_count": 6,
      "metadata": {
        "colab": {
          "base_uri": "https://localhost:8080/"
        },
        "id": "9TxbV_wHrJ7C",
        "outputId": "f0e555a0-3dc0-446c-f5a2-11d197dd8c76"
      },
      "outputs": [
        {
          "output_type": "stream",
          "name": "stdout",
          "text": [
            "1100.0円\n"
          ]
        }
      ],
      "source": [
        "# 戻り値を返す関数の定義\n",
        "def calculate_total(price, tax):\n",
        "    # 与えられた引数priceとtaxを計算し、変数totalに代入\n",
        "    total = price + price * tax\n",
        "    # 変数totalを戻り値\n",
        "    return total\n",
        "\n",
        "# 引数として商品の金額と消費税を渡す\n",
        "total = calculate_total(1000, 0.1)\n",
        "\n",
        "# 変数totalの値を出力\n",
        "print(f\"{total}円\")"
      ]
    }
  ]
}