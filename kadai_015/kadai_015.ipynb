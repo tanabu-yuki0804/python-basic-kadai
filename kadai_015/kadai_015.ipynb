{
  "nbformat": 4,
  "nbformat_minor": 0,
  "metadata": {
    "colab": {
      "provenance": []
    },
    "kernelspec": {
      "name": "python3",
      "display_name": "Python 3"
    },
    "language_info": {
      "name": "python"
    }
  },
  "cells": [
    {
      "cell_type": "code",
      "execution_count": 3,
      "metadata": {
        "colab": {
          "base_uri": "https://localhost:8080/"
        },
        "id": "R7BeNi3CyIc7",
        "outputId": "50fc1e36-6e2a-4ab7-e1b8-1378991b3623"
      },
      "outputs": [
        {
          "output_type": "stream",
          "name": "stdout",
          "text": [
            "侍太郎\n",
            "36\n"
          ]
        }
      ],
      "source": [
        "# ①名前(name)と年齢(age)の属性を持つHumanクラスを作成してください。\n",
        "# ②nameとageを標準出力(print)するメソッド(printinfo)を追加してください。\n",
        "# ③Humanクラスのインスタンスは、変数に代入してプログラム内で使用してください。\n",
        "\n",
        "# ①クラス作成\n",
        "class Human:\n",
        "    def __init__(self, name, age):\n",
        "        self.name = name\n",
        "        self.age = age\n",
        "\n",
        "    # ②メソッド追加\n",
        "    def printinfo(self):\n",
        "        print(self.name)\n",
        "        print(self.age)\n",
        "\n",
        "# ③インスタンス化・変数代入\n",
        "human = Human(\"侍太郎\", 36)\n",
        "\n",
        "# ④メソッドへのアクセス　インスタンス名.メソッド名（）\n",
        "human.printinfo()"
      ]
    }
  ]
}