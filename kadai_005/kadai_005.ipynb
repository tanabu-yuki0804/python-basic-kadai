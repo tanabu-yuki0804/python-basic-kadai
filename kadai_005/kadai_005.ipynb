{
  "nbformat": 4,
  "nbformat_minor": 0,
  "metadata": {
    "colab": {
      "provenance": []
    },
    "kernelspec": {
      "name": "python3",
      "display_name": "Python 3"
    },
    "language_info": {
      "name": "python"
    }
  },
  "cells": [
    {
      "cell_type": "code",
      "source": [
        "top_base = 10\n",
        "bottom_base = 20\n",
        "height = 5\n",
        "area = ((top_base + bottom_base) * height / 2)\n",
        "\n",
        "print(f\"上辺{top_base}cm、下辺{bottom_base}cm、高さ{height}cmの台形の面積は{area}cm2です。\")"
      ],
      "metadata": {
        "colab": {
          "base_uri": "https://localhost:8080/"
        },
        "id": "vFC-9dxZWtMf",
        "outputId": "1fe2be3b-b135-44c0-b0fa-ee105bb91b20"
      },
      "execution_count": 19,
      "outputs": [
        {
          "output_type": "stream",
          "name": "stdout",
          "text": [
            "上辺10cm、下辺20cm、高さ5cmの台形の面積は75.0cm2です。\n"
          ]
        }
      ]
    }
  ]
}