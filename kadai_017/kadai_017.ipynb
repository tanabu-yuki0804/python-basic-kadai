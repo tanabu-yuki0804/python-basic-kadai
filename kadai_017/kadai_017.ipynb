{
  "nbformat": 4,
  "nbformat_minor": 0,
  "metadata": {
    "colab": {
      "provenance": []
    },
    "kernelspec": {
      "name": "python3",
      "display_name": "Python 3"
    },
    "language_info": {
      "name": "python"
    }
  },
  "cells": [
    {
      "cell_type": "code",
      "execution_count": 11,
      "metadata": {
        "colab": {
          "base_uri": "https://localhost:8080/"
        },
        "id": "3qMwIRI6uJQK",
        "outputId": "0ed270bd-29e4-4071-ebf4-7dadeb440f94"
      },
      "outputs": [
        {
          "output_type": "stream",
          "name": "stdout",
          "text": [
            "侍太郎さんは大人です。\n",
            "侍一郎さんは大人です。\n",
            "侍二郎さんは大人です。\n",
            "侍三郎さんは大人ではありません。\n"
          ]
        }
      ],
      "source": [
        "# 名前(name)と年齢(age)の属性を持つHumanクラスを作成してください。\n",
        "# Humanクラスには、以下の条件で標準出力(print)するcheck_adultメソッドを追加してください。\n",
        "\n",
        "# ageが20以上の場合に大人であること\n",
        "# そうでない場合に大人でないこと\n",
        "# Humanクラスのインスタンスを複数生成してリストに追加し、リストの要素数分だけcheck_adultメソッドを呼び出してください。\n",
        "\n",
        "class Human:\n",
        "    # 定義\n",
        "    def __init__(self, name, age):\n",
        "        self.name = name\n",
        "        self.age = age\n",
        "\n",
        "    def check_adult(self):\n",
        "        if self.age >= 20:\n",
        "            print(f\"{self.name}さんは大人です。\")\n",
        "        else:\n",
        "            print(f\"{self.name}さんは大人ではありません。\")\n",
        "\n",
        "# インスタンス化\n",
        "humans = [\n",
        "      Human(name = \"侍太郎\", age = 36),\n",
        "      Human(name = \"侍一郎\", age = 25),\n",
        "      Human(name = \"侍二郎\", age = 21),\n",
        "      Human(name = \"侍三郎\", age = 19)\n",
        "]\n",
        "\n",
        "for human in humans:\n",
        "    human.check_adult()"
      ]
    }
  ]
}